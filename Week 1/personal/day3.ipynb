{
 "cells": [
  {
   "cell_type": "code",
   "execution_count": 7,
   "metadata": {},
   "outputs": [
    {
     "name": "stdout",
     "output_type": "stream",
     "text": [
      "**************************************************\n",
      "Your guess is greater than the random number\n",
      "**************************************************\n",
      "**************************************************\n",
      "Your guess is greater than the random number\n",
      "**************************************************\n",
      "**************************************************\n",
      "Your guess is greater than the random number\n",
      "**************************************************\n",
      "**************************************************\n",
      "Yaaayyy!! Your guess is correct in 4 attempt\n",
      "**************************************************\n"
     ]
    }
   ],
   "source": [
    "import random\n",
    "random_number = random.randint(1,10)\n",
    "\n",
    "for i in range (5):\n",
    "    guess = int(input('Enter your guess here:'))\n",
    "    if guess == random_number:\n",
    "        print('*'*50)\n",
    "        print (f'Yaaayyy!! Your guess is correct in {i+1} attempt')\n",
    "        print('*'*50)\n",
    "        break\n",
    "    elif guess > random_number:\n",
    "        print('*'*50)\n",
    "        print('Your guess is greater than the random number')\n",
    "        print('*'*50)\n",
    "    elif guess < random_number:\n",
    "        print('*'*50)\n",
    "        print('Your guess is lesser than the random number')\n",
    "        print('*'*50)\n",
    "    \n",
    "\n"
   ]
  }
 ],
 "metadata": {
  "kernelspec": {
   "display_name": "Python 3.10.7 64-bit",
   "language": "python",
   "name": "python3"
  },
  "language_info": {
   "codemirror_mode": {
    "name": "ipython",
    "version": 3
   },
   "file_extension": ".py",
   "mimetype": "text/x-python",
   "name": "python",
   "nbconvert_exporter": "python",
   "pygments_lexer": "ipython3",
   "version": "3.10.7 (tags/v3.10.7:6cc6b13, Sep  5 2022, 14:08:36) [MSC v.1933 64 bit (AMD64)]"
  },
  "orig_nbformat": 4,
  "vscode": {
   "interpreter": {
    "hash": "6fefc1429abde418332eb01e982899f6dcfbb1af937cce6b3766a6a872e2446e"
   }
  }
 },
 "nbformat": 4,
 "nbformat_minor": 2
}
