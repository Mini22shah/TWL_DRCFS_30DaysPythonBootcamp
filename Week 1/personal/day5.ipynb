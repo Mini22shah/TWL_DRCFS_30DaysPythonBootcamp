{
 "cells": [
  {
   "cell_type": "code",
   "execution_count": 23,
   "metadata": {},
   "outputs": [
    {
     "name": "stdout",
     "output_type": "stream",
     "text": [
      "thapa\n",
      "sardar\n",
      "subedi\n",
      "dict_items([('mini', 'shah'), ('samana', 'thapa'), ('anjali', 'subedi')])\n",
      "dict_keys(['mini', 'samana', 'anjali'])\n",
      "dict_values(['shah', 'thapa', 'subedi'])\n",
      "{'mini': 'shah', 'samana': 'thapa', 'anjali': 'subedi'}\n"
     ]
    }
   ],
   "source": [
    "user_pass ={'mini':'shah','samana':'thapa','anjali':'sardar'}\n",
    "print(user_pass.get('samana'))\n",
    "print(user_pass['anjali'])\n",
    "\n",
    "user_pass['anjali'] = 'subedi'\n",
    "print(user_pass.get('anjali'))\n",
    "\n",
    "print(user_pass.items())\n",
    "print(user_pass.keys())\n",
    "print(user_pass.values())\n",
    "print(user_pass)"
   ]
  },
  {
   "cell_type": "markdown",
   "metadata": {},
   "source": []
  },
  {
   "cell_type": "code",
   "execution_count": 41,
   "metadata": {},
   "outputs": [
    {
     "name": "stdout",
     "output_type": "stream",
     "text": [
      "Incorrect password\n"
     ]
    }
   ],
   "source": [
    "user_pass ={'mini':'shah','samana':'thapa','anjali':'sardar'}\n",
    "username = input('What is your name?')\n",
    "input_password = input('What is your password?')\n",
    "\n",
    "real_password = user_pass.get(username)\n",
    "\n",
    "if real_password is None:\n",
    "    print('User does not exist')\n",
    "elif real_password == input_password:\n",
    "    print('You are logged in')\n",
    "else:\n",
    "    print('Incorrect password')\n",
    "\n",
    "\n"
   ]
  }
 ],
 "metadata": {
  "kernelspec": {
   "display_name": "Python 3.10.7 64-bit",
   "language": "python",
   "name": "python3"
  },
  "language_info": {
   "codemirror_mode": {
    "name": "ipython",
    "version": 3
   },
   "file_extension": ".py",
   "mimetype": "text/x-python",
   "name": "python",
   "nbconvert_exporter": "python",
   "pygments_lexer": "ipython3",
   "version": "3.10.7 (tags/v3.10.7:6cc6b13, Sep  5 2022, 14:08:36) [MSC v.1933 64 bit (AMD64)]"
  },
  "orig_nbformat": 4,
  "vscode": {
   "interpreter": {
    "hash": "6fefc1429abde418332eb01e982899f6dcfbb1af937cce6b3766a6a872e2446e"
   }
  }
 },
 "nbformat": 4,
 "nbformat_minor": 2
}
